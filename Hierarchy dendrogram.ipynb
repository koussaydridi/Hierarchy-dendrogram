{
 "cells": [
  {
   "cell_type": "code",
   "execution_count": null,
   "metadata": {},
   "outputs": [],
   "source": [
    "import pandas as pd\n",
    "from scipy.cluster.hierarchy import dendrogram, linkage\n",
    "from sklearn.cluster import KMeans\n",
    "import matplotlib.pyplot as plt\n",
    "\n",
    "# Chargement des données\n",
    "data = pd.DataFrame({\n",
    "    \"Fromages\": [\"CarredelEst\", \"Babybel\", \"Beaufort\", \"Bleu\", \"Camembert\", \"Cantal\", \"Chabichou\", \"Chaource\", \"Cheddar\", \"Comte\",\n",
    "                 \"Coulomniers\", \"Edam\", \"Emmental\", \"Fr,chevrepatemolle206\", \"Fr,fondu,45\", \"Fr,frais20nat\", \"Fr,frais40nat\",\n",
    "                 \"Maroilles\", \"Morbier\", \"Parmesan\", \"Petitsuisse40\", \"PontlEveque\", \"Pyrenees\", \"Reblochon\", \"Rocquefort\", \n",
    "                 \"SaintPaulin\", \"Tome\", \"Vacherin\", \"Yaourtlaitent,nat\"],\n",
    "    \"Calories\": [314, 314, 401, 342, 264, 367, 344, 292, 406, 399, 308, 327, 378, 206, 292, 80, 115, 338, 347, 381, 142, 300,\n",
    "                 355, 309, 370, 298, 321, 321, 70],\n",
    "    \"Sodium\": [353.5, 238, 112, 336, 314, 256, 192, 276, 172, 92, 222, 148, 60, 160, 390, 41, 25, 311, 285, 240, 22, 223,\n",
    "               232, 272, 432, 205, 252, 140, 91],\n",
    "    \"Calcium\": [72.6, 209.8, 259.4, 211.1, 215.9, 264, 87.2, 132.9, 182.3, 220.5, 79.2, 272.2, 308.2, 72.8, 168.5, 146.3, 94.8,\n",
    "                236.7, 219, 334.6, 78.2, 156.7, 178.9, 202.3, 162, 261, 125.5, 218, 215.7],\n",
    "    \"Lipides\": [26.3, 25.1, 33.3, 28.9, 19.5, 28.8, 27.9, 25.4, 32.5, 32.4, 25.6, 24.7, 29.4, 18.5, 24, 3.5, 7.8, 29.1, 29.5, 27.5,\n",
    "                10.4, 23.4, 28, 24.6, 31.2, 23.3, 27.3, 29.3, 3.4],\n",
    "    \"Retinol\": [51.6, 63.7, 54.9, 37.1, 103, 48.8, 90.1, 116.4, 76.4, 55.9, 63.6, 65.7, 56.3, 150.5, 77.4, 50, 64.3, 46.7, 57.6,\n",
    "                 90, 63.4, 53, 51.5, 73.1, 83.5, 60.4, 62.3, 49.2, 42.9],\n",
    "    \"Folates\": [30.3, 6.4, 1.2, 27.5, 36.4, 5.7, 36.3, 32.5, 4.9, 1.3, 21.1, 5.5, 2.4, 31, 5.5, 20, 22.6, 3.6, 5.8, 5.2, 20.4,\n",
    "                 4, 6.8, 8.1, 13.3, 6.7, 6.2, 3.7, 2.9],\n",
    "    \"Protéines\": [21, 22.6, 26.6, 20.2, 23.4, 23, 19.5, 17.8, 26, 29.2, 20.5, 24.7, 29.4, 11.1, 16.8, 8.3, 7, 20.4, 23.6, 35.7, 9.4,\n",
    "                   21.1, 22.4, 19.7, 18.7, 23.3, 21.8, 17.6, 4.1],\n",
    "    \"Cholestérol\": [70, 70, 120, 90, 60, 90, 80, 70, 110, 120, 80, 80, 110, 50, 70, 10, 30, 90, 80, 80, 20, 70, 90, 80, 100, 70,\n",
    "                      80, 80, 13]\n",
    "})\n",
    "\n",
    "X = data.iloc[:, 1:] # Les autres colonnes sauf \"Fromages\"\n",
    "y = data[\"Fromages\"] # La colonne \"Fromages\"\n",
    "\n",
    "# Affichage des premières lignes pour vérification\n",
    "print(data.head())\n",
    "\n",
    "# Description des données\n",
    "print(\"\\nDescription des données :\")\n",
    "data.describe()"
   ]
  },
  {
   "cell_type": "code",
   "execution_count": null,
   "metadata": {},
   "outputs": [],
   "source": [
    "# Classification ascendante hiérarchique (CAH)\n",
    "Z = linkage(X, 'ward')\n",
    "plt.figure(figsize=(10, 5))\n",
    "dendrogram(Z, labels=y.values, leaf_rotation=90)\n",
    "plt.title('Dendrogramme CAH')\n",
    "plt.xlabel('Fromages')\n",
    "plt.ylabel('Distance')\n",
    "plt.show()\n"
   ]
  },
  {
   "cell_type": "code",
   "execution_count": null,
   "metadata": {},
   "outputs": [],
   "source": [
    "inertia = []\n",
    "for i in range(1, 11):\n",
    "    kmeans = KMeans(n_clusters=i, random_state=0)\n",
    "    kmeans.fit(X)\n",
    "    inertia.append(kmeans.inertia_)\n",
    "\n",
    "plt.plot(range(1, 11), inertia)\n",
    "plt.title('Méthode du coude')\n",
    "plt.xlabel('Nombre de clusters')\n",
    "plt.ylabel('Inertie')\n",
    "plt.show()"
   ]
  },
  {
   "cell_type": "code",
   "execution_count": null,
   "metadata": {},
   "outputs": [],
   "source": [
    "# K-means\n",
    "kmeans = KMeans(n_clusters=2)\n",
    "kmeans.fit(X)\n",
    "centroids = kmeans.cluster_centers_\n",
    "labels = kmeans.labels_\n"
   ]
  },
  {
   "cell_type": "code",
   "execution_count": null,
   "metadata": {},
   "outputs": [],
   "source": [
    "# Affichage des clusters obtenus\n",
    "data['Cluster'] = labels\n",
    "print(data[['Fromages', 'Cluster']])"
   ]
  },
  {
   "cell_type": "code",
   "execution_count": null,
   "metadata": {},
   "outputs": [],
   "source": [
    "cluster_means = data.drop(columns=['Fromages']).groupby('Cluster').mean()\n",
    "print(cluster_means)\n",
    "\n",
    "# Interprétation des groupes\n",
    "for i, cluster in cluster_means.iterrows():\n",
    "    print(f\"Groupe {i}:\")\n",
    "    print(cluster)"
   ]
  },
  {
   "cell_type": "code",
   "execution_count": null,
   "metadata": {},
   "outputs": [],
   "source": [
    "# Fonction de prédiction\n",
    "def predict_fromages_class(Calories, Sodium, Calcium, Lipides, Retinol, Folates, Proteines, Cholesterol):\n",
    "    # Normalisation des caractéristiques du nouveau fromage\n",
    "    new_data = scaler.transform([[Calories, Sodium, Calcium, Lipides, Retinol, Folates, Proteines, Cholesterol]])\n",
    "    \n",
    "    # Prédiction du cluster\n",
    "    predicted_cluster = kmeans.predict(new_data)\n",
    "    \n",
    "    return predicted_cluster[0]\n",
    "\n",
    "# Utilisation de la fonction de prédiction\n",
    "Calories = input(\"La valeur de Calories\")\n",
    "Sodium = input(\"La valeur de Sodium\")\n",
    "Calcium = input(\"La valeur de Calcium\")\n",
    "Lipides = input(\"La valeur de Lipides\")\n",
    "Retinol = input(\"La valeur de Retinol\")\n",
    "Folates = input(\"La valeur de Folates\")\n",
    "Proteines = input(\"La valeur de Proteines\")\n",
    "Cholesterol = input(\"La valeur de Cholesterol\")\n",
    "predicted_fromage = predict_fromages_class(Calories, Sodium, Calcium, Lipides, Retinol, Folates, Proteines, Cholesterol)\n",
    "print(\"Classe prédite pour les valeurs données est : \", predicted_fromage)"
   ]
  }
 ],
 "metadata": {
  "language_info": {
   "name": "python"
  }
 },
 "nbformat": 4,
 "nbformat_minor": 2
}
